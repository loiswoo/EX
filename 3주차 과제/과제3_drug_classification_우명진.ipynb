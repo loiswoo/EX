{
  "nbformat": 4,
  "nbformat_minor": 0,
  "metadata": {
    "colab": {
      "name": "과제 3 drug classification_우명진",
      "provenance": []
    },
    "kernelspec": {
      "name": "python3",
      "display_name": "Python 3"
    },
    "language_info": {
      "name": "python"
    }
  },
  "cells": [
    {
      "cell_type": "markdown",
      "source": [
        "목적: 주어진 변수들을 통해서 환자에게 어떤 약물을 처방할 것인가"
      ],
      "metadata": {
        "id": "Zl7K-2WbyfO1"
      }
    },
    {
      "cell_type": "code",
      "execution_count": null,
      "metadata": {
        "id": "p6UNq-tfwDj9"
      },
      "outputs": [],
      "source": [
        "import pandas as pd\n",
        "import seaborn as sns\n",
        "from sklearn.preprocessing import LabelEncoder\n",
        "from sklearn.model_selection import train_test_split\n",
        "from imblearn.over_sampling import SMOTE\n",
        "from sklearn import linear_model, naive_bayes, neighbors, svm"
      ]
    },
    {
      "cell_type": "code",
      "source": [
        "drugs = pd.read_csv('/content/drug200.csv')\n",
        "drugs.head() #상위 5개 데이터 확인"
      ],
      "metadata": {
        "colab": {
          "base_uri": "https://localhost:8080/",
          "height": 206
        },
        "id": "mjxawj9gwPd-",
        "outputId": "24013779-b4fc-49c1-d183-3fdadffbf92a"
      },
      "execution_count": 3,
      "outputs": [
        {
          "output_type": "execute_result",
          "data": {
            "text/html": [
              "\n",
              "  <div id=\"df-88178770-9aa2-489e-8c21-64bd9aad6477\">\n",
              "    <div class=\"colab-df-container\">\n",
              "      <div>\n",
              "<style scoped>\n",
              "    .dataframe tbody tr th:only-of-type {\n",
              "        vertical-align: middle;\n",
              "    }\n",
              "\n",
              "    .dataframe tbody tr th {\n",
              "        vertical-align: top;\n",
              "    }\n",
              "\n",
              "    .dataframe thead th {\n",
              "        text-align: right;\n",
              "    }\n",
              "</style>\n",
              "<table border=\"1\" class=\"dataframe\">\n",
              "  <thead>\n",
              "    <tr style=\"text-align: right;\">\n",
              "      <th></th>\n",
              "      <th>Age</th>\n",
              "      <th>Sex</th>\n",
              "      <th>BP</th>\n",
              "      <th>Cholesterol</th>\n",
              "      <th>Na_to_K</th>\n",
              "      <th>Drug</th>\n",
              "    </tr>\n",
              "  </thead>\n",
              "  <tbody>\n",
              "    <tr>\n",
              "      <th>0</th>\n",
              "      <td>23</td>\n",
              "      <td>F</td>\n",
              "      <td>HIGH</td>\n",
              "      <td>HIGH</td>\n",
              "      <td>25.355</td>\n",
              "      <td>DrugY</td>\n",
              "    </tr>\n",
              "    <tr>\n",
              "      <th>1</th>\n",
              "      <td>47</td>\n",
              "      <td>M</td>\n",
              "      <td>LOW</td>\n",
              "      <td>HIGH</td>\n",
              "      <td>13.093</td>\n",
              "      <td>drugC</td>\n",
              "    </tr>\n",
              "    <tr>\n",
              "      <th>2</th>\n",
              "      <td>47</td>\n",
              "      <td>M</td>\n",
              "      <td>LOW</td>\n",
              "      <td>HIGH</td>\n",
              "      <td>10.114</td>\n",
              "      <td>drugC</td>\n",
              "    </tr>\n",
              "    <tr>\n",
              "      <th>3</th>\n",
              "      <td>28</td>\n",
              "      <td>F</td>\n",
              "      <td>NORMAL</td>\n",
              "      <td>HIGH</td>\n",
              "      <td>7.798</td>\n",
              "      <td>drugX</td>\n",
              "    </tr>\n",
              "    <tr>\n",
              "      <th>4</th>\n",
              "      <td>61</td>\n",
              "      <td>F</td>\n",
              "      <td>LOW</td>\n",
              "      <td>HIGH</td>\n",
              "      <td>18.043</td>\n",
              "      <td>DrugY</td>\n",
              "    </tr>\n",
              "  </tbody>\n",
              "</table>\n",
              "</div>\n",
              "      <button class=\"colab-df-convert\" onclick=\"convertToInteractive('df-88178770-9aa2-489e-8c21-64bd9aad6477')\"\n",
              "              title=\"Convert this dataframe to an interactive table.\"\n",
              "              style=\"display:none;\">\n",
              "        \n",
              "  <svg xmlns=\"http://www.w3.org/2000/svg\" height=\"24px\"viewBox=\"0 0 24 24\"\n",
              "       width=\"24px\">\n",
              "    <path d=\"M0 0h24v24H0V0z\" fill=\"none\"/>\n",
              "    <path d=\"M18.56 5.44l.94 2.06.94-2.06 2.06-.94-2.06-.94-.94-2.06-.94 2.06-2.06.94zm-11 1L8.5 8.5l.94-2.06 2.06-.94-2.06-.94L8.5 2.5l-.94 2.06-2.06.94zm10 10l.94 2.06.94-2.06 2.06-.94-2.06-.94-.94-2.06-.94 2.06-2.06.94z\"/><path d=\"M17.41 7.96l-1.37-1.37c-.4-.4-.92-.59-1.43-.59-.52 0-1.04.2-1.43.59L10.3 9.45l-7.72 7.72c-.78.78-.78 2.05 0 2.83L4 21.41c.39.39.9.59 1.41.59.51 0 1.02-.2 1.41-.59l7.78-7.78 2.81-2.81c.8-.78.8-2.07 0-2.86zM5.41 20L4 18.59l7.72-7.72 1.47 1.35L5.41 20z\"/>\n",
              "  </svg>\n",
              "      </button>\n",
              "      \n",
              "  <style>\n",
              "    .colab-df-container {\n",
              "      display:flex;\n",
              "      flex-wrap:wrap;\n",
              "      gap: 12px;\n",
              "    }\n",
              "\n",
              "    .colab-df-convert {\n",
              "      background-color: #E8F0FE;\n",
              "      border: none;\n",
              "      border-radius: 50%;\n",
              "      cursor: pointer;\n",
              "      display: none;\n",
              "      fill: #1967D2;\n",
              "      height: 32px;\n",
              "      padding: 0 0 0 0;\n",
              "      width: 32px;\n",
              "    }\n",
              "\n",
              "    .colab-df-convert:hover {\n",
              "      background-color: #E2EBFA;\n",
              "      box-shadow: 0px 1px 2px rgba(60, 64, 67, 0.3), 0px 1px 3px 1px rgba(60, 64, 67, 0.15);\n",
              "      fill: #174EA6;\n",
              "    }\n",
              "\n",
              "    [theme=dark] .colab-df-convert {\n",
              "      background-color: #3B4455;\n",
              "      fill: #D2E3FC;\n",
              "    }\n",
              "\n",
              "    [theme=dark] .colab-df-convert:hover {\n",
              "      background-color: #434B5C;\n",
              "      box-shadow: 0px 1px 3px 1px rgba(0, 0, 0, 0.15);\n",
              "      filter: drop-shadow(0px 1px 2px rgba(0, 0, 0, 0.3));\n",
              "      fill: #FFFFFF;\n",
              "    }\n",
              "  </style>\n",
              "\n",
              "      <script>\n",
              "        const buttonEl =\n",
              "          document.querySelector('#df-88178770-9aa2-489e-8c21-64bd9aad6477 button.colab-df-convert');\n",
              "        buttonEl.style.display =\n",
              "          google.colab.kernel.accessAllowed ? 'block' : 'none';\n",
              "\n",
              "        async function convertToInteractive(key) {\n",
              "          const element = document.querySelector('#df-88178770-9aa2-489e-8c21-64bd9aad6477');\n",
              "          const dataTable =\n",
              "            await google.colab.kernel.invokeFunction('convertToInteractive',\n",
              "                                                     [key], {});\n",
              "          if (!dataTable) return;\n",
              "\n",
              "          const docLinkHtml = 'Like what you see? Visit the ' +\n",
              "            '<a target=\"_blank\" href=https://colab.research.google.com/notebooks/data_table.ipynb>data table notebook</a>'\n",
              "            + ' to learn more about interactive tables.';\n",
              "          element.innerHTML = '';\n",
              "          dataTable['output_type'] = 'display_data';\n",
              "          await google.colab.output.renderOutput(dataTable, element);\n",
              "          const docLink = document.createElement('div');\n",
              "          docLink.innerHTML = docLinkHtml;\n",
              "          element.appendChild(docLink);\n",
              "        }\n",
              "      </script>\n",
              "    </div>\n",
              "  </div>\n",
              "  "
            ],
            "text/plain": [
              "   Age Sex      BP Cholesterol  Na_to_K   Drug\n",
              "0   23   F    HIGH        HIGH   25.355  DrugY\n",
              "1   47   M     LOW        HIGH   13.093  drugC\n",
              "2   47   M     LOW        HIGH   10.114  drugC\n",
              "3   28   F  NORMAL        HIGH    7.798  drugX\n",
              "4   61   F     LOW        HIGH   18.043  DrugY"
            ]
          },
          "metadata": {},
          "execution_count": 3
        }
      ]
    },
    {
      "cell_type": "markdown",
      "source": [
        "\n",
        "\n",
        "*   Age: 환자의 나이\n",
        "*   Sex: 환자의 성별(M, F)\n",
        "*  BP: 환자의 혈압 (high, low, normal)\n",
        "*  Cholesterol: 환자의 콜레스트롤 수치(normal, high)\n",
        "*  Na_to_K: 나트륨 대 칼륜 비율\n",
        "*  Drug: 환자가 처방 받은 약물 종류(drugA, drugB, drugC, drugX, drugY)"
      ],
      "metadata": {
        "id": "Y1CiVRFJzgNR"
      }
    },
    {
      "cell_type": "markdown",
      "source": [
        "\n",
        "\n",
        "---\n",
        "\n",
        "**Grouping Data**\n",
        "\n",
        "\n",
        " → 수치형 변수인 Age 변수와 Na_to_K 변수를 그룹화해줌\n",
        "\n",
        "\n"
      ],
      "metadata": {
        "id": "KlCZyhG8wthf"
      }
    },
    {
      "cell_type": "code",
      "source": [
        "sns.distplot(drugs['Age']) "
      ],
      "metadata": {
        "colab": {
          "base_uri": "https://localhost:8080/",
          "height": 353
        },
        "id": "r9yM44G2wT8v",
        "outputId": "93ce77b2-d7c6-454b-866a-0b18c32e2a45"
      },
      "execution_count": 4,
      "outputs": [
        {
          "output_type": "stream",
          "name": "stderr",
          "text": [
            "/usr/local/lib/python3.7/dist-packages/seaborn/distributions.py:2619: FutureWarning: `distplot` is a deprecated function and will be removed in a future version. Please adapt your code to use either `displot` (a figure-level function with similar flexibility) or `histplot` (an axes-level function for histograms).\n",
            "  warnings.warn(msg, FutureWarning)\n"
          ]
        },
        {
          "output_type": "execute_result",
          "data": {
            "text/plain": [
              "<matplotlib.axes._subplots.AxesSubplot at 0x7f2323e4e090>"
            ]
          },
          "metadata": {},
          "execution_count": 4
        },
        {
          "output_type": "display_data",
          "data": {
            "image/png": "[encoded data removed]",
            "text/plain": [
              "<Figure size 432x288 with 1 Axes>"
            ]
          },
          "metadata": {
            "needs_background": "light"
          }
        }
      ]
    },
    {
      "cell_type": "code",
      "source": [
        "sns.distplot(drugs['Na_to_K'])"
      ],
      "metadata": {
        "colab": {
          "base_uri": "https://localhost:8080/",
          "height": 354
        },
        "id": "74Vssj--wV3Y",
        "outputId": "98520e44-6208-4af6-866a-19e442cd44cf"
      },
      "execution_count": 5,
      "outputs": [
        {
          "output_type": "stream",
          "name": "stderr",
          "text": [
            "/usr/local/lib/python3.7/dist-packages/seaborn/distributions.py:2619: FutureWarning: `distplot` is a deprecated function and will be removed in a future version. Please adapt your code to use either `displot` (a figure-level function with similar flexibility) or `histplot` (an axes-level function for histograms).\n",
            "  warnings.warn(msg, FutureWarning)\n"
          ]
        },
        {
          "output_type": "execute_result",
          "data": {
            "text/plain": [
              "<matplotlib.axes._subplots.AxesSubplot at 0x7f231e82ed10>"
            ]
          },
          "metadata": {},
          "execution_count": 5
        },
        {
          "output_type": "display_data",
          "data": {
            "image/png": "[encoded data removed]",
            "text/plain": [
              "<Figure size 432x288 with 1 Axes>"
            ]
          },
          "metadata": {
            "needs_background": "light"
          }
        }
      ]
    },
    {
      "cell_type": "code",
      "source": [
        "drugs.describe()"
      ],
      "metadata": {
        "colab": {
          "base_uri": "https://localhost:8080/",
          "height": 300
        },
        "id": "a_r4PlkTwgOA",
        "outputId": "88dcd87e-1ea1-483a-aaec-359dd1257f8f"
      },
      "execution_count": 8,
      "outputs": [
        {
          "output_type": "execute_result",
          "data": {
            "text/html": [
              "\n",
              "  <div id=\"df-25f8571b-7ade-41d8-965c-73b18edaccb4\">\n",
              "    <div class=\"colab-df-container\">\n",
              "      <div>\n",
              "<style scoped>\n",
              "    .dataframe tbody tr th:only-of-type {\n",
              "        vertical-align: middle;\n",
              "    }\n",
              "\n",
              "    .dataframe tbody tr th {\n",
              "        vertical-align: top;\n",
              "    }\n",
              "\n",
              "    .dataframe thead th {\n",
              "        text-align: right;\n",
              "    }\n",
              "</style>\n",
              "<table border=\"1\" class=\"dataframe\">\n",
              "  <thead>\n",
              "    <tr style=\"text-align: right;\">\n",
              "      <th></th>\n",
              "      <th>Age</th>\n",
              "      <th>Na_to_K</th>\n",
              "    </tr>\n",
              "  </thead>\n",
              "  <tbody>\n",
              "    <tr>\n",
              "      <th>count</th>\n",
              "      <td>200.000000</td>\n",
              "      <td>200.000000</td>\n",
              "    </tr>\n",
              "    <tr>\n",
              "      <th>mean</th>\n",
              "      <td>44.315000</td>\n",
              "      <td>16.084485</td>\n",
              "    </tr>\n",
              "    <tr>\n",
              "      <th>std</th>\n",
              "      <td>16.544315</td>\n",
              "      <td>7.223956</td>\n",
              "    </tr>\n",
              "    <tr>\n",
              "      <th>min</th>\n",
              "      <td>15.000000</td>\n",
              "      <td>6.269000</td>\n",
              "    </tr>\n",
              "    <tr>\n",
              "      <th>25%</th>\n",
              "      <td>31.000000</td>\n",
              "      <td>10.445500</td>\n",
              "    </tr>\n",
              "    <tr>\n",
              "      <th>50%</th>\n",
              "      <td>45.000000</td>\n",
              "      <td>13.936500</td>\n",
              "    </tr>\n",
              "    <tr>\n",
              "      <th>75%</th>\n",
              "      <td>58.000000</td>\n",
              "      <td>19.380000</td>\n",
              "    </tr>\n",
              "    <tr>\n",
              "      <th>max</th>\n",
              "      <td>74.000000</td>\n",
              "      <td>38.247000</td>\n",
              "    </tr>\n",
              "  </tbody>\n",
              "</table>\n",
              "</div>\n",
              "      <button class=\"colab-df-convert\" onclick=\"convertToInteractive('df-25f8571b-7ade-41d8-965c-73b18edaccb4')\"\n",
              "              title=\"Convert this dataframe to an interactive table.\"\n",
              "              style=\"display:none;\">\n",
              "        \n",
              "  <svg xmlns=\"http://www.w3.org/2000/svg\" height=\"24px\"viewBox=\"0 0 24 24\"\n",
              "       width=\"24px\">\n",
              "    <path d=\"M0 0h24v24H0V0z\" fill=\"none\"/>\n",
              "    <path d=\"M18.56 5.44l.94 2.06.94-2.06 2.06-.94-2.06-.94-.94-2.06-.94 2.06-2.06.94zm-11 1L8.5 8.5l.94-2.06 2.06-.94-2.06-.94L8.5 2.5l-.94 2.06-2.06.94zm10 10l.94 2.06.94-2.06 2.06-.94-2.06-.94-.94-2.06-.94 2.06-2.06.94z\"/><path d=\"M17.41 7.96l-1.37-1.37c-.4-.4-.92-.59-1.43-.59-.52 0-1.04.2-1.43.59L10.3 9.45l-7.72 7.72c-.78.78-.78 2.05 0 2.83L4 21.41c.39.39.9.59 1.41.59.51 0 1.02-.2 1.41-.59l7.78-7.78 2.81-2.81c.8-.78.8-2.07 0-2.86zM5.41 20L4 18.59l7.72-7.72 1.47 1.35L5.41 20z\"/>\n",
              "  </svg>\n",
              "      </button>\n",
              "      \n",
              "  <style>\n",
              "    .colab-df-container {\n",
              "      display:flex;\n",
              "      flex-wrap:wrap;\n",
              "      gap: 12px;\n",
              "    }\n",
              "\n",
              "    .colab-df-convert {\n",
              "      background-color: #E8F0FE;\n",
              "      border: none;\n",
              "      border-radius: 50%;\n",
              "      cursor: pointer;\n",
              "      display: none;\n",
              "      fill: #1967D2;\n",
              "      height: 32px;\n",
              "      padding: 0 0 0 0;\n",
              "      width: 32px;\n",
              "    }\n",
              "\n",
              "    .colab-df-convert:hover {\n",
              "      background-color: #E2EBFA;\n",
              "      box-shadow: 0px 1px 2px rgba(60, 64, 67, 0.3), 0px 1px 3px 1px rgba(60, 64, 67, 0.15);\n",
              "      fill: #174EA6;\n",
              "    }\n",
              "\n",
              "    [theme=dark] .colab-df-convert {\n",
              "      background-color: #3B4455;\n",
              "      fill: #D2E3FC;\n",
              "    }\n",
              "\n",
              "    [theme=dark] .colab-df-convert:hover {\n",
              "      background-color: #434B5C;\n",
              "      box-shadow: 0px 1px 3px 1px rgba(0, 0, 0, 0.15);\n",
              "      filter: drop-shadow(0px 1px 2px rgba(0, 0, 0, 0.3));\n",
              "      fill: #FFFFFF;\n",
              "    }\n",
              "  </style>\n",
              "\n",
              "      <script>\n",
              "        const buttonEl =\n",
              "          document.querySelector('#df-25f8571b-7ade-41d8-965c-73b18edaccb4 button.colab-df-convert');\n",
              "        buttonEl.style.display =\n",
              "          google.colab.kernel.accessAllowed ? 'block' : 'none';\n",
              "\n",
              "        async function convertToInteractive(key) {\n",
              "          const element = document.querySelector('#df-25f8571b-7ade-41d8-965c-73b18edaccb4');\n",
              "          const dataTable =\n",
              "            await google.colab.kernel.invokeFunction('convertToInteractive',\n",
              "                                                     [key], {});\n",
              "          if (!dataTable) return;\n",
              "\n",
              "          const docLinkHtml = 'Like what you see? Visit the ' +\n",
              "            '<a target=\"_blank\" href=https://colab.research.google.com/notebooks/data_table.ipynb>data table notebook</a>'\n",
              "            + ' to learn more about interactive tables.';\n",
              "          element.innerHTML = '';\n",
              "          dataTable['output_type'] = 'display_data';\n",
              "          await google.colab.output.renderOutput(dataTable, element);\n",
              "          const docLink = document.createElement('div');\n",
              "          docLink.innerHTML = docLinkHtml;\n",
              "          element.appendChild(docLink);\n",
              "        }\n",
              "      </script>\n",
              "    </div>\n",
              "  </div>\n",
              "  "
            ],
            "text/plain": [
              "              Age     Na_to_K\n",
              "count  200.000000  200.000000\n",
              "mean    44.315000   16.084485\n",
              "std     16.544315    7.223956\n",
              "min     15.000000    6.269000\n",
              "25%     31.000000   10.445500\n",
              "50%     45.000000   13.936500\n",
              "75%     58.000000   19.380000\n",
              "max     74.000000   38.247000"
            ]
          },
          "metadata": {},
          "execution_count": 8
        }
      ]
    },
    {
      "cell_type": "markdown",
      "source": [
        "\n",
        "\n",
        "*   Age의 min은 15, max는 74\n",
        "*   Na_to_K의 min은 6.26, max는 38.24\n",
        "\n",
        "→ min과 max에 따라 그룹화 해주기\n",
        "\n"
      ],
      "metadata": {
        "id": "GIL2hdoK0eQZ"
      }
    },
    {
      "cell_type": "markdown",
      "source": [
        "Age groups\n",
        "\n",
        "•Under 30s\n",
        "\n",
        "•30-40\n",
        "\n",
        "•40-50\n",
        "\n",
        "•50-60\n",
        "\n",
        "•Over 60s\n"
      ],
      "metadata": {
        "id": "iwR8d5590wVE"
      }
    },
    {
      "cell_type": "code",
      "source": [
        "age_groups = []\n",
        "for i in drugs['Age']:\n",
        "    if i <= 30:\n",
        "        age_groups.append('0-30') #append(): 선택된 요소의 마지막에 새로운 요소를 추가함.\n",
        "    if i > 30 and i <= 40:\n",
        "        age_groups.append('30-40')\n",
        "    if i > 40 and i <= 50:\n",
        "        age_groups.append('40-50')\n",
        "    if i > 50 and i <= 60:\n",
        "        age_groups.append('50-60')\n",
        "    if i > 60:\n",
        "        age_groups.append('60+')\n",
        "        \n",
        "drugs['AgeGroup'] = age_groups"
      ],
      "metadata": {
        "id": "rxtVeBzdwiam"
      },
      "execution_count": 9,
      "outputs": []
    },
    {
      "cell_type": "markdown",
      "source": [
        "Na_to_K groups\n",
        "\n",
        "•5-10\n",
        "\n",
        "•10-15\n",
        "\n",
        "•15-20\n",
        "\n",
        "•20-25\n",
        "\n",
        "•25-30\n",
        "\n",
        "•30+"
      ],
      "metadata": {
        "id": "vRFAVceL1Gxq"
      }
    },
    {
      "cell_type": "code",
      "source": [
        "na_to_k_groups = []\n",
        "for i in drugs['Na_to_K']:\n",
        "    if i <= 10:\n",
        "        na_to_k_groups.append('5-10')\n",
        "    if i > 10 and i <= 15:\n",
        "        na_to_k_groups.append('10-15')\n",
        "    if i > 15 and i <= 20:\n",
        "        na_to_k_groups.append('15-20')\n",
        "    if i > 20 and i <= 25:\n",
        "        na_to_k_groups.append('20-25')\n",
        "    if i > 25 and i <= 30:\n",
        "        na_to_k_groups.append('25-30')\n",
        "    if i > 30:\n",
        "        na_to_k_groups.append('30+')\n",
        "        \n",
        "drugs['Na_to_K_groups'] = na_to_k_groups"
      ],
      "metadata": {
        "id": "5MQzhXZ_wmE3"
      },
      "execution_count": 10,
      "outputs": []
    },
    {
      "cell_type": "code",
      "source": [
        "drugs = drugs[['AgeGroup', 'Sex', 'BP', 'Cholesterol', 'Na_to_K_groups', 'Drug']] #age 대신에 agegroup, Na_to_K 대신에 Na_to_K_groups 이용\n",
        "drugs.head()"
      ],
      "metadata": {
        "colab": {
          "base_uri": "https://localhost:8080/",
          "height": 206
        },
        "id": "DcsH_7IPwo4R",
        "outputId": "5b277b6e-b32f-49a3-8aa3-ab19fc09c3ed"
      },
      "execution_count": 11,
      "outputs": [
        {
          "output_type": "execute_result",
          "data": {
            "text/html": [
              "\n",
              "  <div id=\"df-0ecdd313-af73-44b1-bc3a-495fc016ec12\">\n",
              "    <div class=\"colab-df-container\">\n",
              "      <div>\n",
              "<style scoped>\n",
              "    .dataframe tbody tr th:only-of-type {\n",
              "        vertical-align: middle;\n",
              "    }\n",
              "\n",
              "    .dataframe tbody tr th {\n",
              "        vertical-align: top;\n",
              "    }\n",
              "\n",
              "    .dataframe thead th {\n",
              "        text-align: right;\n",
              "    }\n",
              "</style>\n",
              "<table border=\"1\" class=\"dataframe\">\n",
              "  <thead>\n",
              "    <tr style=\"text-align: right;\">\n",
              "      <th></th>\n",
              "      <th>AgeGroup</th>\n",
              "      <th>Sex</th>\n",
              "      <th>BP</th>\n",
              "      <th>Cholesterol</th>\n",
              "      <th>Na_to_K_groups</th>\n",
              "      <th>Drug</th>\n",
              "    </tr>\n",
              "  </thead>\n",
              "  <tbody>\n",
              "    <tr>\n",
              "      <th>0</th>\n",
              "      <td>0-30</td>\n",
              "      <td>F</td>\n",
              "      <td>HIGH</td>\n",
              "      <td>HIGH</td>\n",
              "      <td>25-30</td>\n",
              "      <td>DrugY</td>\n",
              "    </tr>\n",
              "    <tr>\n",
              "      <th>1</th>\n",
              "      <td>40-50</td>\n",
              "      <td>M</td>\n",
              "      <td>LOW</td>\n",
              "      <td>HIGH</td>\n",
              "      <td>10-15</td>\n",
              "      <td>drugC</td>\n",
              "    </tr>\n",
              "    <tr>\n",
              "      <th>2</th>\n",
              "      <td>40-50</td>\n",
              "      <td>M</td>\n",
              "      <td>LOW</td>\n",
              "      <td>HIGH</td>\n",
              "      <td>10-15</td>\n",
              "      <td>drugC</td>\n",
              "    </tr>\n",
              "    <tr>\n",
              "      <th>3</th>\n",
              "      <td>0-30</td>\n",
              "      <td>F</td>\n",
              "      <td>NORMAL</td>\n",
              "      <td>HIGH</td>\n",
              "      <td>5-10</td>\n",
              "      <td>drugX</td>\n",
              "    </tr>\n",
              "    <tr>\n",
              "      <th>4</th>\n",
              "      <td>60+</td>\n",
              "      <td>F</td>\n",
              "      <td>LOW</td>\n",
              "      <td>HIGH</td>\n",
              "      <td>15-20</td>\n",
              "      <td>DrugY</td>\n",
              "    </tr>\n",
              "  </tbody>\n",
              "</table>\n",
              "</div>\n",
              "      <button class=\"colab-df-convert\" onclick=\"convertToInteractive('df-0ecdd313-af73-44b1-bc3a-495fc016ec12')\"\n",
              "              title=\"Convert this dataframe to an interactive table.\"\n",
              "              style=\"display:none;\">\n",
              "        \n",
              "  <svg xmlns=\"http://www.w3.org/2000/svg\" height=\"24px\"viewBox=\"0 0 24 24\"\n",
              "       width=\"24px\">\n",
              "    <path d=\"M0 0h24v24H0V0z\" fill=\"none\"/>\n",
              "    <path d=\"M18.56 5.44l.94 2.06.94-2.06 2.06-.94-2.06-.94-.94-2.06-.94 2.06-2.06.94zm-11 1L8.5 8.5l.94-2.06 2.06-.94-2.06-.94L8.5 2.5l-.94 2.06-2.06.94zm10 10l.94 2.06.94-2.06 2.06-.94-2.06-.94-.94-2.06-.94 2.06-2.06.94z\"/><path d=\"M17.41 7.96l-1.37-1.37c-.4-.4-.92-.59-1.43-.59-.52 0-1.04.2-1.43.59L10.3 9.45l-7.72 7.72c-.78.78-.78 2.05 0 2.83L4 21.41c.39.39.9.59 1.41.59.51 0 1.02-.2 1.41-.59l7.78-7.78 2.81-2.81c.8-.78.8-2.07 0-2.86zM5.41 20L4 18.59l7.72-7.72 1.47 1.35L5.41 20z\"/>\n",
              "  </svg>\n",
              "      </button>\n",
              "      \n",
              "  <style>\n",
              "    .colab-df-container {\n",
              "      display:flex;\n",
              "      flex-wrap:wrap;\n",
              "      gap: 12px;\n",
              "    }\n",
              "\n",
              "    .colab-df-convert {\n",
              "      background-color: #E8F0FE;\n",
              "      border: none;\n",
              "      border-radius: 50%;\n",
              "      cursor: pointer;\n",
              "      display: none;\n",
              "      fill: #1967D2;\n",
              "      height: 32px;\n",
              "      padding: 0 0 0 0;\n",
              "      width: 32px;\n",
              "    }\n",
              "\n",
              "    .colab-df-convert:hover {\n",
              "      background-color: #E2EBFA;\n",
              "      box-shadow: 0px 1px 2px rgba(60, 64, 67, 0.3), 0px 1px 3px 1px rgba(60, 64, 67, 0.15);\n",
              "      fill: #174EA6;\n",
              "    }\n",
              "\n",
              "    [theme=dark] .colab-df-convert {\n",
              "      background-color: #3B4455;\n",
              "      fill: #D2E3FC;\n",
              "    }\n",
              "\n",
              "    [theme=dark] .colab-df-convert:hover {\n",
              "      background-color: #434B5C;\n",
              "      box-shadow: 0px 1px 3px 1px rgba(0, 0, 0, 0.15);\n",
              "      filter: drop-shadow(0px 1px 2px rgba(0, 0, 0, 0.3));\n",
              "      fill: #FFFFFF;\n",
              "    }\n",
              "  </style>\n",
              "\n",
              "      <script>\n",
              "        const buttonEl =\n",
              "          document.querySelector('#df-0ecdd313-af73-44b1-bc3a-495fc016ec12 button.colab-df-convert');\n",
              "        buttonEl.style.display =\n",
              "          google.colab.kernel.accessAllowed ? 'block' : 'none';\n",
              "\n",
              "        async function convertToInteractive(key) {\n",
              "          const element = document.querySelector('#df-0ecdd313-af73-44b1-bc3a-495fc016ec12');\n",
              "          const dataTable =\n",
              "            await google.colab.kernel.invokeFunction('convertToInteractive',\n",
              "                                                     [key], {});\n",
              "          if (!dataTable) return;\n",
              "\n",
              "          const docLinkHtml = 'Like what you see? Visit the ' +\n",
              "            '<a target=\"_blank\" href=https://colab.research.google.com/notebooks/data_table.ipynb>data table notebook</a>'\n",
              "            + ' to learn more about interactive tables.';\n",
              "          element.innerHTML = '';\n",
              "          dataTable['output_type'] = 'display_data';\n",
              "          await google.colab.output.renderOutput(dataTable, element);\n",
              "          const docLink = document.createElement('div');\n",
              "          docLink.innerHTML = docLinkHtml;\n",
              "          element.appendChild(docLink);\n",
              "        }\n",
              "      </script>\n",
              "    </div>\n",
              "  </div>\n",
              "  "
            ],
            "text/plain": [
              "  AgeGroup Sex      BP Cholesterol Na_to_K_groups   Drug\n",
              "0     0-30   F    HIGH        HIGH          25-30  DrugY\n",
              "1    40-50   M     LOW        HIGH          10-15  drugC\n",
              "2    40-50   M     LOW        HIGH          10-15  drugC\n",
              "3     0-30   F  NORMAL        HIGH           5-10  drugX\n",
              "4      60+   F     LOW        HIGH          15-20  DrugY"
            ]
          },
          "metadata": {},
          "execution_count": 11
        }
      ]
    },
    {
      "cell_type": "markdown",
      "source": [
        "→ 수치형 변수인 Age와 Na_to_K를 범주형으로 바꿈 "
      ],
      "metadata": {
        "id": "FL1axZHn1blT"
      }
    },
    {
      "cell_type": "markdown",
      "source": [
        "\n",
        "\n",
        "---\n",
        "\n",
        "**Visualising the  variable distributions**\n",
        "\n"
      ],
      "metadata": {
        "id": "lfV4_CtowzIf"
      }
    },
    {
      "cell_type": "code",
      "source": [
        "sns.set_theme(style=\"darkgrid\") #set()은 그래프의 스타일을 고정\n",
        "sns.countplot(x=\"AgeGroup\", data=drugs, palette='Spectral', order=['0-30', '30-40', '40-50', '50-60', '60+']) #countplot은 클래스별 빈도수 확인할 때 사용"
      ],
      "metadata": {
        "colab": {
          "base_uri": "https://localhost:8080/",
          "height": 305
        },
        "id": "mhpm96bkw5aI",
        "outputId": "38f1ffb5-b147-4fe5-edf4-267b561faf30"
      },
      "execution_count": 12,
      "outputs": [
        {
          "output_type": "execute_result",
          "data": {
            "text/plain": [
              "<matplotlib.axes._subplots.AxesSubplot at 0x7f231e849510>"
            ]
          },
          "metadata": {},
          "execution_count": 12
        },
        {
          "output_type": "display_data",
          "data": {
            "image/png": "[encoded data removed]",
            "text/plain": [
              "<Figure size 432x288 with 1 Axes>"
            ]
          },
          "metadata": {}
        }
      ]
    },
    {
      "cell_type": "markdown",
      "source": [
        "* [0-30] 클래스에 인원이 가장 많고 [50-60] 클래스에 인원이 가장 적음. \n",
        "* 차이는 대략 20명 미만임 "
      ],
      "metadata": {
        "id": "f212Bpzf2juz"
      }
    },
    {
      "cell_type": "code",
      "source": [
        "sns.countplot(x=\"Sex\", data=drugs, palette='Spectral')"
      ],
      "metadata": {
        "colab": {
          "base_uri": "https://localhost:8080/",
          "height": 303
        },
        "id": "sBDuI6pXw7t5",
        "outputId": "f7233fc2-b7d3-4c49-893c-095bbde7be77"
      },
      "execution_count": 13,
      "outputs": [
        {
          "output_type": "execute_result",
          "data": {
            "text/plain": [
              "<matplotlib.axes._subplots.AxesSubplot at 0x7f231e304510>"
            ]
          },
          "metadata": {},
          "execution_count": 13
        },
        {
          "output_type": "display_data",
          "data": {
            "image/png": "[encoded data removed]",
            "text/plain": [
              "<Figure size 432x288 with 1 Axes>"
            ]
          },
          "metadata": {}
        }
      ]
    },
    {
      "cell_type": "markdown",
      "source": [
        "* 여성과 남성의 인원 수 차이가 크지 않음.\n",
        "* 그러나 남성이 여성보다 대략 10명 정도 많음."
      ],
      "metadata": {
        "id": "ttwizgEn2kdN"
      }
    },
    {
      "cell_type": "code",
      "source": [
        "sns.countplot(x=\"BP\", data=drugs, palette='Spectral')"
      ],
      "metadata": {
        "colab": {
          "base_uri": "https://localhost:8080/",
          "height": 305
        },
        "id": "d5A3GEPqw9CJ",
        "outputId": "7b1d169f-e174-4c16-c473-d267031bf75c"
      },
      "execution_count": 14,
      "outputs": [
        {
          "output_type": "execute_result",
          "data": {
            "text/plain": [
              "<matplotlib.axes._subplots.AxesSubplot at 0x7f231e25ce50>"
            ]
          },
          "metadata": {},
          "execution_count": 14
        },
        {
          "output_type": "display_data",
          "data": {
            "image/png": "[encoded data removed]",
            "text/plain": [
              "<Figure size 432x288 with 1 Axes>"
            ]
          },
          "metadata": {}
        }
      ]
    },
    {
      "cell_type": "markdown",
      "source": [
        "* 환자의 혈압 중 '높음'이 가장 빈도수가 높았음.\n",
        "* '정상' 혈압 빈도가 가장 낮았음."
      ],
      "metadata": {
        "id": "YBpwZqqY3Ttb"
      }
    },
    {
      "cell_type": "code",
      "source": [
        "sns.countplot(x=\"Cholesterol\", data=drugs, palette='Spectral')"
      ],
      "metadata": {
        "colab": {
          "base_uri": "https://localhost:8080/",
          "height": 303
        },
        "id": "Fullm6LKw-R1",
        "outputId": "270f34a7-04fa-4cc6-8727-8096f5456488"
      },
      "execution_count": 15,
      "outputs": [
        {
          "output_type": "execute_result",
          "data": {
            "text/plain": [
              "<matplotlib.axes._subplots.AxesSubplot at 0x7f231e23f7d0>"
            ]
          },
          "metadata": {},
          "execution_count": 15
        },
        {
          "output_type": "display_data",
          "data": {
            "image/png": "[encoded data removed]",
            "text/plain": [
              "<Figure size 432x288 with 1 Axes>"
            ]
          },
          "metadata": {}
        }
      ]
    },
    {
      "cell_type": "markdown",
      "source": [
        "* 환자의 콜레스트롤이 '정상'인 경우보다 '높음'의 빈도수가 조금 더 높음 "
      ],
      "metadata": {
        "id": "GO7QZbKp3hs6"
      }
    },
    {
      "cell_type": "code",
      "source": [
        "sns.countplot(x=\"Na_to_K_groups\", data=drugs, palette='Spectral', order=['5-10', '10-15', '15-20', '20-25', '30+'])"
      ],
      "metadata": {
        "colab": {
          "base_uri": "https://localhost:8080/",
          "height": 303
        },
        "id": "YNFlGf-Vw_5d",
        "outputId": "5ac45d22-ebf0-4669-fb51-2d5fb116ec06"
      },
      "execution_count": 16,
      "outputs": [
        {
          "output_type": "execute_result",
          "data": {
            "text/plain": [
              "<matplotlib.axes._subplots.AxesSubplot at 0x7f231e1faa10>"
            ]
          },
          "metadata": {},
          "execution_count": 16
        },
        {
          "output_type": "display_data",
          "data": {
            "image/png": "[encoded data removed]",
            "text/plain": [
              "<Figure size 432x288 with 1 Axes>"
            ]
          },
          "metadata": {}
        }
      ]
    },
    {
      "cell_type": "markdown",
      "source": [
        "* 나트륨 대 칼륨의 비율이 [10-15]인 빈도가 가장 높았고, [15-20]와 [5-10] 클래스가 뒤를 이음. \n",
        "* 나트륨 대 칼륨의 비율이 [30+]인 빈도가 가장 낮았음.\n"
      ],
      "metadata": {
        "id": "z9tl7JnB3sCT"
      }
    },
    {
      "cell_type": "code",
      "source": [
        "sns.countplot(x=\"Drug\", data=drugs, palette='Spectral')"
      ],
      "metadata": {
        "colab": {
          "base_uri": "https://localhost:8080/",
          "height": 303
        },
        "id": "WPS4qw_pxBTt",
        "outputId": "2bbeb725-28a9-4673-d82f-5b1e7a1bac54"
      },
      "execution_count": 17,
      "outputs": [
        {
          "output_type": "execute_result",
          "data": {
            "text/plain": [
              "<matplotlib.axes._subplots.AxesSubplot at 0x7f231e187c10>"
            ]
          },
          "metadata": {},
          "execution_count": 17
        },
        {
          "output_type": "display_data",
          "data": {
            "image/png": "[encoded data removed]",
            "text/plain": [
              "<Figure size 432x288 with 1 Axes>"
            ]
          },
          "metadata": {}
        }
      ]
    },
    {
      "cell_type": "markdown",
      "source": [
        "* 환자에게 처방한 약물의 종류 중에서 [DrugY]의 빈도가 압도적으로 많았음.\n",
        "* 다음으로 환자에게 많이 처방한 약물은 [drugX]임.\n",
        "* [drugC], [drugA], [drugB]는 비슷한 빈도로 환자에게 처방함."
      ],
      "metadata": {
        "id": "bvKc9w-D4C0Z"
      }
    },
    {
      "cell_type": "markdown",
      "source": [
        "약물의 데이터가 비대칭적이기 때문에 SMOTE을 사용하여 drugC, drugX, drugA, drugB를 drugY에 맞게 oversampling 할 것임. "
      ],
      "metadata": {
        "id": "6DzDANhtb7cP"
      }
    },
    {
      "cell_type": "code",
      "source": [
        "x, y = drugs.values[:, :-1], drugs.values[:, -1] #x는 drug 변수를 제외한 나머지 변수들 #y는 drug 변수"
      ],
      "metadata": {
        "id": "K_V2hTW4xrEy"
      },
      "execution_count": 18,
      "outputs": []
    },
    {
      "cell_type": "code",
      "source": [
        "x_train, x_test, y_train, y_test = train_test_split(x, y, test_size=0.33) #train_test_split()을 이용하여 train, test set 나눠주기"
      ],
      "metadata": {
        "id": "iIKdNAO4xsdQ"
      },
      "execution_count": 19,
      "outputs": []
    },
    {
      "cell_type": "code",
      "source": [
        "#x가 전부 다 범주형이기 때문에 dummy variable로 만들어서 수치형으로 만들어줘야함.\n",
        "x_train = pd.get_dummies(pd.DataFrame(x_train)) #get_dummies(): 범주형을 수치형으로 변환\n",
        "x_test = pd.get_dummies(pd.DataFrame(x_test))"
      ],
      "metadata": {
        "id": "cMMwsvODxuVs"
      },
      "execution_count": 20,
      "outputs": []
    },
    {
      "cell_type": "code",
      "source": [
        "x_train, y_train = SMOTE().fit_resample(x_train, y_train) #SMOTE 적용하여 자료의 비율을 같게 만듦"
      ],
      "metadata": {
        "id": "UDsNkqXudfru"
      },
      "execution_count": 21,
      "outputs": []
    },
    {
      "cell_type": "code",
      "source": [
        "ax = sns.countplot(x=y_train, data=drugs, palette='Spectral')\n",
        "ax.set(xlabel=\"Drug\")"
      ],
      "metadata": {
        "id": "KGnodLN-xwkn",
        "colab": {
          "base_uri": "https://localhost:8080/",
          "height": 303
        },
        "outputId": "c75dcb63-8a67-4ab4-f63c-12cc3af9f240"
      },
      "execution_count": 22,
      "outputs": [
        {
          "output_type": "execute_result",
          "data": {
            "text/plain": [
              "[Text(0.5, 0, 'Drug')]"
            ]
          },
          "metadata": {},
          "execution_count": 22
        },
        {
          "output_type": "display_data",
          "data": {
            "image/png": "[encoded data removed]",
            "text/plain": [
              "<Figure size 432x288 with 1 Axes>"
            ]
          },
          "metadata": {}
        }
      ]
    },
    {
      "cell_type": "markdown",
      "source": [
        "→  불균형 자료 문제 해결"
      ],
      "metadata": {
        "id": "SDPLuviyeqi6"
      }
    },
    {
      "cell_type": "code",
      "source": [
        "print(\"ORIGINAL dataset:\", len(drugs), \"\\n EXTENDED dataset:\",len(y))"
      ],
      "metadata": {
        "id": "p0BbqAo3x0lb",
        "colab": {
          "base_uri": "https://localhost:8080/"
        },
        "outputId": "3b9a0dc5-f51a-4115-d3ef-31e005daf56b"
      },
      "execution_count": 23,
      "outputs": [
        {
          "output_type": "stream",
          "name": "stdout",
          "text": [
            "ORIGINAL dataset: 200 \n",
            " EXTENDED dataset: 200\n"
          ]
        }
      ]
    },
    {
      "cell_type": "markdown",
      "source": [
        "**Logistic Regression**"
      ],
      "metadata": {
        "id": "nAU8gdEzx15z"
      }
    },
    {
      "cell_type": "code",
      "source": [
        "log_reg = linear_model.LogisticRegression(max_iter = 5000)\n",
        "log_reg.fit(x_train, y_train)\n",
        "log_reg_acc = 100*log_reg.score(x_test, y_test) #.score()를 이용하여 모델 성능 평가\n",
        "print('Logistic Regression Predictions: \\n', log_reg.predict(x_test), '\\n Accuracy:', log_reg_acc, '%')"
      ],
      "metadata": {
        "id": "a08RFmfMx37k",
        "colab": {
          "base_uri": "https://localhost:8080/"
        },
        "outputId": "292cc182-8e1e-4312-b128-45cdeec9aa43"
      },
      "execution_count": 24,
      "outputs": [
        {
          "output_type": "stream",
          "name": "stdout",
          "text": [
            "Logistic Regression Predictions: \n",
            " ['DrugY' 'drugC' 'DrugY' 'DrugY' 'drugB' 'drugX' 'DrugY' 'DrugY' 'DrugY'\n",
            " 'drugC' 'DrugY' 'drugX' 'drugX' 'drugC' 'DrugY' 'DrugY' 'drugX' 'drugX'\n",
            " 'drugX' 'DrugY' 'drugB' 'DrugY' 'drugB' 'drugX' 'drugX' 'DrugY' 'drugB'\n",
            " 'drugX' 'drugB' 'DrugY' 'DrugY' 'DrugY' 'drugX' 'DrugY' 'DrugY' 'DrugY'\n",
            " 'DrugY' 'drugX' 'DrugY' 'DrugY' 'drugX' 'drugX' 'DrugY' 'drugA' 'DrugY'\n",
            " 'drugA' 'DrugY' 'DrugY' 'drugX' 'drugX' 'drugX' 'DrugY' 'DrugY' 'DrugY'\n",
            " 'drugB' 'DrugY' 'drugC' 'drugC' 'DrugY' 'drugB' 'drugB' 'DrugY' 'DrugY'\n",
            " 'DrugY' 'drugX' 'DrugY'] \n",
            " Accuracy: 100.0 %\n"
          ]
        }
      ]
    },
    {
      "cell_type": "markdown",
      "source": [
        "**Gaussian Naive Bayes**"
      ],
      "metadata": {
        "id": "RcLJ09hCx5Pq"
      }
    },
    {
      "cell_type": "code",
      "source": [
        "nb = naive_bayes.GaussianNB()\n",
        "nb.fit(x_train, y_train)\n",
        "nb_acc = 100*nb.score(x_test, y_test)\n",
        "print('Naive Bayes Predictions: \\n', nb.predict(x_test), '\\n Accuracy:', nb_acc, '%')"
      ],
      "metadata": {
        "id": "FFTmBGHex7yQ",
        "colab": {
          "base_uri": "https://localhost:8080/"
        },
        "outputId": "bf95658b-88a6-4755-9f61-cf2737cddfb3"
      },
      "execution_count": 25,
      "outputs": [
        {
          "output_type": "stream",
          "name": "stdout",
          "text": [
            "Naive Bayes Predictions: \n",
            " ['DrugY' 'drugC' 'DrugY' 'DrugY' 'drugB' 'drugX' 'DrugY' 'DrugY' 'DrugY'\n",
            " 'drugC' 'DrugY' 'drugX' 'drugX' 'drugC' 'DrugY' 'DrugY' 'drugX' 'drugX'\n",
            " 'drugX' 'DrugY' 'drugB' 'DrugY' 'drugB' 'drugX' 'drugX' 'DrugY' 'drugB'\n",
            " 'drugX' 'drugB' 'DrugY' 'DrugY' 'DrugY' 'drugX' 'DrugY' 'DrugY' 'DrugY'\n",
            " 'DrugY' 'drugX' 'DrugY' 'DrugY' 'drugX' 'drugX' 'DrugY' 'drugA' 'DrugY'\n",
            " 'drugA' 'DrugY' 'DrugY' 'drugX' 'drugX' 'drugX' 'DrugY' 'DrugY' 'DrugY'\n",
            " 'drugB' 'DrugY' 'drugX' 'drugX' 'DrugY' 'drugB' 'drugB' 'DrugY' 'DrugY'\n",
            " 'DrugY' 'drugX' 'DrugY'] \n",
            " Accuracy: 96.96969696969697 %\n"
          ]
        }
      ]
    },
    {
      "cell_type": "markdown",
      "source": [
        "**K-Nearest Neighbours**"
      ],
      "metadata": {
        "id": "ThKO8h8HyGlk"
      }
    },
    {
      "cell_type": "code",
      "source": [
        "knn = neighbors.KNeighborsClassifier(n_neighbors=25)\n",
        "knn.fit(x_train, y_train)\n",
        "knn_acc = 100*knn.score(x_test, y_test)\n",
        "print('K-Nearest Neighbours Predictions: \\n', knn.predict(x_test), '\\n Accuracy:', knn_acc, '%')"
      ],
      "metadata": {
        "id": "uif3FIFyyJeX",
        "colab": {
          "base_uri": "https://localhost:8080/"
        },
        "outputId": "e158746b-fd1f-4c08-f674-acc5b24aa42c"
      },
      "execution_count": 26,
      "outputs": [
        {
          "output_type": "stream",
          "name": "stdout",
          "text": [
            "K-Nearest Neighbours Predictions: \n",
            " ['drugA' 'drugC' 'drugA' 'DrugY' 'drugA' 'drugX' 'DrugY' 'drugC' 'DrugY'\n",
            " 'drugX' 'DrugY' 'drugX' 'drugX' 'drugC' 'DrugY' 'DrugY' 'drugC' 'drugX'\n",
            " 'drugX' 'DrugY' 'drugB' 'DrugY' 'drugB' 'drugX' 'drugX' 'DrugY' 'drugA'\n",
            " 'drugX' 'drugA' 'DrugY' 'DrugY' 'DrugY' 'drugX' 'DrugY' 'DrugY' 'DrugY'\n",
            " 'DrugY' 'drugC' 'drugB' 'DrugY' 'drugC' 'drugX' 'DrugY' 'drugA' 'DrugY'\n",
            " 'drugA' 'drugC' 'DrugY' 'drugX' 'drugX' 'drugX' 'drugC' 'DrugY' 'DrugY'\n",
            " 'DrugY' 'DrugY' 'drugC' 'drugX' 'DrugY' 'drugA' 'drugB' 'DrugY' 'DrugY'\n",
            " 'DrugY' 'drugX' 'DrugY'] \n",
            " Accuracy: 75.75757575757575 %\n"
          ]
        }
      ]
    },
    {
      "cell_type": "markdown",
      "source": [
        "**Support Vector Machine**"
      ],
      "metadata": {
        "id": "VrZYjnmayQCh"
      }
    },
    {
      "cell_type": "code",
      "source": [
        "svm = svm.SVC(kernel='linear')\n",
        "svm.fit(x_train, y_train)\n",
        "svm_acc = 100*svm.score(x_test, y_test)\n",
        "print('SVM Predictions: \\n', svm.predict(x_test), '\\n Accuracy:', svm_acc, '%')"
      ],
      "metadata": {
        "colab": {
          "base_uri": "https://localhost:8080/"
        },
        "id": "pJ0k3yP2OdAF",
        "outputId": "183cec89-6fdf-4ac6-9f45-9ae935e163c2"
      },
      "execution_count": 27,
      "outputs": [
        {
          "output_type": "stream",
          "name": "stdout",
          "text": [
            "SVM Predictions: \n",
            " ['DrugY' 'drugC' 'DrugY' 'DrugY' 'drugB' 'drugX' 'DrugY' 'DrugY' 'DrugY'\n",
            " 'drugC' 'DrugY' 'drugX' 'drugX' 'drugC' 'DrugY' 'DrugY' 'drugX' 'drugX'\n",
            " 'drugX' 'DrugY' 'drugB' 'DrugY' 'drugB' 'drugX' 'drugX' 'DrugY' 'drugB'\n",
            " 'drugX' 'drugB' 'DrugY' 'DrugY' 'DrugY' 'drugX' 'DrugY' 'DrugY' 'DrugY'\n",
            " 'DrugY' 'drugX' 'DrugY' 'DrugY' 'drugX' 'drugX' 'DrugY' 'drugA' 'DrugY'\n",
            " 'drugA' 'DrugY' 'DrugY' 'drugX' 'drugX' 'drugX' 'DrugY' 'DrugY' 'DrugY'\n",
            " 'drugB' 'DrugY' 'drugC' 'drugC' 'DrugY' 'drugB' 'drugB' 'DrugY' 'DrugY'\n",
            " 'DrugY' 'drugX' 'DrugY'] \n",
            " Accuracy: 100.0 %\n"
          ]
        }
      ]
    },
    {
      "cell_type": "markdown",
      "source": [
        "**Summary**"
      ],
      "metadata": {
        "id": "MVliTn7vyX9H"
      }
    },
    {
      "cell_type": "code",
      "source": [
        "pd.DataFrame(data={'Model': ['Logistic Regression', 'Gaussian Naive Bayes', 'K-Nearest Neighbours', 'Support Vector Machine (SVM)'], 'Accuracy %': [log_reg_acc, nb_acc, knn_acc, svm_acc]})"
      ],
      "metadata": {
        "id": "ZjaX_EUIyagn",
        "colab": {
          "base_uri": "https://localhost:8080/",
          "height": 175
        },
        "outputId": "9646f114-b679-4b22-c852-152d9ff53285"
      },
      "execution_count": 28,
      "outputs": [
        {
          "output_type": "execute_result",
          "data": {
            "text/html": [
              "\n",
              "  <div id=\"df-af052637-b78f-4953-a949-f937bf58d983\">\n",
              "    <div class=\"colab-df-container\">\n",
              "      <div>\n",
              "<style scoped>\n",
              "    .dataframe tbody tr th:only-of-type {\n",
              "        vertical-align: middle;\n",
              "    }\n",
              "\n",
              "    .dataframe tbody tr th {\n",
              "        vertical-align: top;\n",
              "    }\n",
              "\n",
              "    .dataframe thead th {\n",
              "        text-align: right;\n",
              "    }\n",
              "</style>\n",
              "<table border=\"1\" class=\"dataframe\">\n",
              "  <thead>\n",
              "    <tr style=\"text-align: right;\">\n",
              "      <th></th>\n",
              "      <th>Model</th>\n",
              "      <th>Accuracy %</th>\n",
              "    </tr>\n",
              "  </thead>\n",
              "  <tbody>\n",
              "    <tr>\n",
              "      <th>0</th>\n",
              "      <td>Logistic Regression</td>\n",
              "      <td>100.000000</td>\n",
              "    </tr>\n",
              "    <tr>\n",
              "      <th>1</th>\n",
              "      <td>Gaussian Naive Bayes</td>\n",
              "      <td>96.969697</td>\n",
              "    </tr>\n",
              "    <tr>\n",
              "      <th>2</th>\n",
              "      <td>K-Nearest Neighbours</td>\n",
              "      <td>75.757576</td>\n",
              "    </tr>\n",
              "    <tr>\n",
              "      <th>3</th>\n",
              "      <td>Support Vector Machine (SVM)</td>\n",
              "      <td>100.000000</td>\n",
              "    </tr>\n",
              "  </tbody>\n",
              "</table>\n",
              "</div>\n",
              "      <button class=\"colab-df-convert\" onclick=\"convertToInteractive('df-af052637-b78f-4953-a949-f937bf58d983')\"\n",
              "              title=\"Convert this dataframe to an interactive table.\"\n",
              "              style=\"display:none;\">\n",
              "        \n",
              "  <svg xmlns=\"http://www.w3.org/2000/svg\" height=\"24px\"viewBox=\"0 0 24 24\"\n",
              "       width=\"24px\">\n",
              "    <path d=\"M0 0h24v24H0V0z\" fill=\"none\"/>\n",
              "    <path d=\"M18.56 5.44l.94 2.06.94-2.06 2.06-.94-2.06-.94-.94-2.06-.94 2.06-2.06.94zm-11 1L8.5 8.5l.94-2.06 2.06-.94-2.06-.94L8.5 2.5l-.94 2.06-2.06.94zm10 10l.94 2.06.94-2.06 2.06-.94-2.06-.94-.94-2.06-.94 2.06-2.06.94z\"/><path d=\"M17.41 7.96l-1.37-1.37c-.4-.4-.92-.59-1.43-.59-.52 0-1.04.2-1.43.59L10.3 9.45l-7.72 7.72c-.78.78-.78 2.05 0 2.83L4 21.41c.39.39.9.59 1.41.59.51 0 1.02-.2 1.41-.59l7.78-7.78 2.81-2.81c.8-.78.8-2.07 0-2.86zM5.41 20L4 18.59l7.72-7.72 1.47 1.35L5.41 20z\"/>\n",
              "  </svg>\n",
              "      </button>\n",
              "      \n",
              "  <style>\n",
              "    .colab-df-container {\n",
              "      display:flex;\n",
              "      flex-wrap:wrap;\n",
              "      gap: 12px;\n",
              "    }\n",
              "\n",
              "    .colab-df-convert {\n",
              "      background-color: #E8F0FE;\n",
              "      border: none;\n",
              "      border-radius: 50%;\n",
              "      cursor: pointer;\n",
              "      display: none;\n",
              "      fill: #1967D2;\n",
              "      height: 32px;\n",
              "      padding: 0 0 0 0;\n",
              "      width: 32px;\n",
              "    }\n",
              "\n",
              "    .colab-df-convert:hover {\n",
              "      background-color: #E2EBFA;\n",
              "      box-shadow: 0px 1px 2px rgba(60, 64, 67, 0.3), 0px 1px 3px 1px rgba(60, 64, 67, 0.15);\n",
              "      fill: #174EA6;\n",
              "    }\n",
              "\n",
              "    [theme=dark] .colab-df-convert {\n",
              "      background-color: #3B4455;\n",
              "      fill: #D2E3FC;\n",
              "    }\n",
              "\n",
              "    [theme=dark] .colab-df-convert:hover {\n",
              "      background-color: #434B5C;\n",
              "      box-shadow: 0px 1px 3px 1px rgba(0, 0, 0, 0.15);\n",
              "      filter: drop-shadow(0px 1px 2px rgba(0, 0, 0, 0.3));\n",
              "      fill: #FFFFFF;\n",
              "    }\n",
              "  </style>\n",
              "\n",
              "      <script>\n",
              "        const buttonEl =\n",
              "          document.querySelector('#df-af052637-b78f-4953-a949-f937bf58d983 button.colab-df-convert');\n",
              "        buttonEl.style.display =\n",
              "          google.colab.kernel.accessAllowed ? 'block' : 'none';\n",
              "\n",
              "        async function convertToInteractive(key) {\n",
              "          const element = document.querySelector('#df-af052637-b78f-4953-a949-f937bf58d983');\n",
              "          const dataTable =\n",
              "            await google.colab.kernel.invokeFunction('convertToInteractive',\n",
              "                                                     [key], {});\n",
              "          if (!dataTable) return;\n",
              "\n",
              "          const docLinkHtml = 'Like what you see? Visit the ' +\n",
              "            '<a target=\"_blank\" href=https://colab.research.google.com/notebooks/data_table.ipynb>data table notebook</a>'\n",
              "            + ' to learn more about interactive tables.';\n",
              "          element.innerHTML = '';\n",
              "          dataTable['output_type'] = 'display_data';\n",
              "          await google.colab.output.renderOutput(dataTable, element);\n",
              "          const docLink = document.createElement('div');\n",
              "          docLink.innerHTML = docLinkHtml;\n",
              "          element.appendChild(docLink);\n",
              "        }\n",
              "      </script>\n",
              "    </div>\n",
              "  </div>\n",
              "  "
            ],
            "text/plain": [
              "                          Model  Accuracy %\n",
              "0           Logistic Regression  100.000000\n",
              "1          Gaussian Naive Bayes   96.969697\n",
              "2          K-Nearest Neighbours   75.757576\n",
              "3  Support Vector Machine (SVM)  100.000000"
            ]
          },
          "metadata": {},
          "execution_count": 28
        }
      ]
    },
    {
      "cell_type": "markdown",
      "source": [
        "→ Logistic Regression과 SVM 모델이 높은 성능 "
      ],
      "metadata": {
        "id": "7rS9Lu0bVzUa"
      }
    }
  ]
}